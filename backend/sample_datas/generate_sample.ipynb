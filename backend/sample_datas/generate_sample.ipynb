{
 "cells": [
  {
   "cell_type": "code",
   "execution_count": 1,
   "metadata": {},
   "outputs": [],
   "source": [
    "import numpy as np\n",
    "import pandas as pd\n",
    "\n",
    "rng = np.random.default_rng()\n",
    "\n",
    "e = lambda size: rng.normal(0, 1, size)"
   ]
  },
  {
   "cell_type": "code",
   "execution_count": 2,
   "metadata": {},
   "outputs": [],
   "source": [
    "size = 10000\n",
    "\n",
    "Z1 = e(size)\n",
    "Z2 = e(size)\n",
    "Z3 = 1 * Z1 + 2 * Z2 + e(size)\n",
    "X = 3 * Z1 + 4 * Z3 + e(size)\n",
    "Y = 5 * X + 6 * Z2 + 7 * Z3 + e(size)"
   ]
  },
  {
   "cell_type": "code",
   "execution_count": 3,
   "metadata": {},
   "outputs": [
    {
     "data": {
      "text/html": [
       "<div>\n",
       "<style scoped>\n",
       "    .dataframe tbody tr th:only-of-type {\n",
       "        vertical-align: middle;\n",
       "    }\n",
       "\n",
       "    .dataframe tbody tr th {\n",
       "        vertical-align: top;\n",
       "    }\n",
       "\n",
       "    .dataframe thead th {\n",
       "        text-align: right;\n",
       "    }\n",
       "</style>\n",
       "<table border=\"1\" class=\"dataframe\">\n",
       "  <thead>\n",
       "    <tr style=\"text-align: right;\">\n",
       "      <th></th>\n",
       "      <th>X</th>\n",
       "      <th>Y</th>\n",
       "      <th>Z1</th>\n",
       "      <th>Z2</th>\n",
       "      <th>Z3</th>\n",
       "    </tr>\n",
       "  </thead>\n",
       "  <tbody>\n",
       "    <tr>\n",
       "      <th>0</th>\n",
       "      <td>9.660294</td>\n",
       "      <td>78.296803</td>\n",
       "      <td>-0.748443</td>\n",
       "      <td>1.331746</td>\n",
       "      <td>2.795402</td>\n",
       "    </tr>\n",
       "    <tr>\n",
       "      <th>1</th>\n",
       "      <td>9.527863</td>\n",
       "      <td>67.824531</td>\n",
       "      <td>0.237854</td>\n",
       "      <td>0.473901</td>\n",
       "      <td>2.340966</td>\n",
       "    </tr>\n",
       "    <tr>\n",
       "      <th>2</th>\n",
       "      <td>8.759271</td>\n",
       "      <td>62.325808</td>\n",
       "      <td>0.274731</td>\n",
       "      <td>0.628032</td>\n",
       "      <td>1.970642</td>\n",
       "    </tr>\n",
       "    <tr>\n",
       "      <th>3</th>\n",
       "      <td>-14.236266</td>\n",
       "      <td>-104.157799</td>\n",
       "      <td>-0.049861</td>\n",
       "      <td>-1.375628</td>\n",
       "      <td>-3.643910</td>\n",
       "    </tr>\n",
       "    <tr>\n",
       "      <th>4</th>\n",
       "      <td>17.500592</td>\n",
       "      <td>109.792800</td>\n",
       "      <td>1.907582</td>\n",
       "      <td>0.359729</td>\n",
       "      <td>2.888347</td>\n",
       "    </tr>\n",
       "  </tbody>\n",
       "</table>\n",
       "</div>"
      ],
      "text/plain": [
       "           X           Y        Z1        Z2        Z3\n",
       "0   9.660294   78.296803 -0.748443  1.331746  2.795402\n",
       "1   9.527863   67.824531  0.237854  0.473901  2.340966\n",
       "2   8.759271   62.325808  0.274731  0.628032  1.970642\n",
       "3 -14.236266 -104.157799 -0.049861 -1.375628 -3.643910\n",
       "4  17.500592  109.792800  1.907582  0.359729  2.888347"
      ]
     },
     "execution_count": 3,
     "metadata": {},
     "output_type": "execute_result"
    }
   ],
   "source": [
    "df = pd.DataFrame({\n",
    "    \"X\": X,\n",
    "    \"Y\": Y,\n",
    "    \"Z1\": Z1,\n",
    "    \"Z2\": Z2,\n",
    "    \"Z3\": Z3\n",
    "})\n",
    "df.head()"
   ]
  },
  {
   "cell_type": "code",
   "execution_count": 4,
   "metadata": {},
   "outputs": [],
   "source": [
    "df.to_csv(\"./test2.csv\", index=False)"
   ]
  },
  {
   "cell_type": "code",
   "execution_count": null,
   "metadata": {},
   "outputs": [],
   "source": []
  }
 ],
 "metadata": {
  "kernelspec": {
   "display_name": ".venv",
   "language": "python",
   "name": "python3"
  },
  "language_info": {
   "codemirror_mode": {
    "name": "ipython",
    "version": 3
   },
   "file_extension": ".py",
   "mimetype": "text/x-python",
   "name": "python",
   "nbconvert_exporter": "python",
   "pygments_lexer": "ipython3",
   "version": "3.10.9"
  },
  "orig_nbformat": 4,
  "vscode": {
   "interpreter": {
    "hash": "9c9bcf30850a164d17a939ebe41f0463e231f0800fcd298a4a73fd0259598f77"
   }
  }
 },
 "nbformat": 4,
 "nbformat_minor": 2
}
